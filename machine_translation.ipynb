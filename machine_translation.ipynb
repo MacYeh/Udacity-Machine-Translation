{
 "cells": [
  {
   "cell_type": "markdown",
   "metadata": {
    "collapsed": true
   },
   "source": [
    "# Artificial Intelligence Nanodegree\n",
    "## Machine Translation Project\n",
    "In this notebook, sections that end with **'(IMPLEMENTATION)'** in the header indicate that the following blocks of code will require additional functionality which you must provide. Please be sure to read the instructions carefully!\n",
    "\n",
    "## Introduction\n",
    "In this notebook, you will build a deep neural network that functions as part of an end-to-end machine translation pipeline. Your completed pipeline will accept English text as input and return the French translation.\n",
    "\n",
    "- **Preprocess** - You'll convert text to sequence of integers.\n",
    "- **Models** Create models which accepts a sequence of integers as input and returns a probability distribution over possible translations. After learning about the basic types of neural networks that are often used for machine translation, you will engage in your own investigations, to design your own model!\n",
    "- **Prediction** Run the model on English text."
   ]
  },
  {
   "cell_type": "code",
   "execution_count": 1,
   "metadata": {},
   "outputs": [],
   "source": [
    "%load_ext autoreload\n",
    "%aimport helper, tests\n",
    "%autoreload 1"
   ]
  },
  {
   "cell_type": "code",
   "execution_count": 2,
   "metadata": {},
   "outputs": [
    {
     "name": "stderr",
     "output_type": "stream",
     "text": [
      "Using TensorFlow backend.\n"
     ]
    }
   ],
   "source": [
    "import collections\n",
    "\n",
    "import helper\n",
    "import numpy as np\n",
    "import project_tests as tests\n",
    "\n",
    "from keras.preprocessing.text import Tokenizer\n",
    "from keras.preprocessing.sequence import pad_sequences\n",
    "from keras.models import Model\n",
    "from keras.layers import GRU, Input, Dense, TimeDistributed, Activation, RepeatVector, Bidirectional, Reshape, concatenate, BatchNormalization\n",
    "from keras.layers.embeddings import Embedding\n",
    "from keras.optimizers import Adam\n",
    "from keras.losses import sparse_categorical_crossentropy"
   ]
  },
  {
   "cell_type": "markdown",
   "metadata": {},
   "source": [
    "### Verify access to the GPU\n",
    "The following test applies only if you expect to be using a GPU, e.g., while running in a Udacity Workspace or using an AWS instance with GPU support. Run the next cell, and verify that the device_type is \"GPU\".\n",
    "- If the device is not GPU & you are running from a Udacity Workspace, then save your workspace with the icon at the top, then click \"enable\" at the bottom of the workspace.\n",
    "- If the device is not GPU & you are running from an AWS instance, then refer to the cloud computing instructions in the classroom to verify your setup steps."
   ]
  },
  {
   "cell_type": "code",
   "execution_count": 3,
   "metadata": {},
   "outputs": [
    {
     "name": "stdout",
     "output_type": "stream",
     "text": [
      "[name: \"/cpu:0\"\n",
      "device_type: \"CPU\"\n",
      "memory_limit: 268435456\n",
      "locality {\n",
      "}\n",
      "incarnation: 4577502710435219443\n",
      ", name: \"/gpu:0\"\n",
      "device_type: \"GPU\"\n",
      "memory_limit: 357302272\n",
      "locality {\n",
      "  bus_id: 1\n",
      "}\n",
      "incarnation: 9987122527097816325\n",
      "physical_device_desc: \"device: 0, name: Tesla K80, pci bus id: 0000:00:04.0\"\n",
      "]\n"
     ]
    }
   ],
   "source": [
    "from tensorflow.python.client import device_lib\n",
    "print(device_lib.list_local_devices())"
   ]
  },
  {
   "cell_type": "markdown",
   "metadata": {},
   "source": [
    "## Dataset\n",
    "We begin by investigating the dataset that will be used to train and evaluate your pipeline.  The most common datasets used for machine translation are from [WMT](http://www.statmt.org/).  However, that will take a long time to train a neural network on.  We'll be using a dataset we created for this project that contains a small vocabulary.  You'll be able to train your model in a reasonable time with this dataset.\n",
    "### Load Data\n",
    "The data is located in `data/small_vocab_en` and `data/small_vocab_fr`. The `small_vocab_en` file contains English sentences with their French translations in the `small_vocab_fr` file. Load the English and French data from these files from running the cell below."
   ]
  },
  {
   "cell_type": "code",
   "execution_count": 4,
   "metadata": {},
   "outputs": [
    {
     "name": "stdout",
     "output_type": "stream",
     "text": [
      "Dataset Loaded\n"
     ]
    }
   ],
   "source": [
    "# Load English data\n",
    "english_sentences = helper.load_data('data/small_vocab_en')\n",
    "# Load French data\n",
    "french_sentences = helper.load_data('data/small_vocab_fr')\n",
    "\n",
    "print('Dataset Loaded')"
   ]
  },
  {
   "cell_type": "markdown",
   "metadata": {},
   "source": [
    "### Files\n",
    "Each line in `small_vocab_en` contains an English sentence with the respective translation in each line of `small_vocab_fr`.  View the first two lines from each file."
   ]
  },
  {
   "cell_type": "code",
   "execution_count": 5,
   "metadata": {},
   "outputs": [
    {
     "name": "stdout",
     "output_type": "stream",
     "text": [
      "small_vocab_en Line 1:  new jersey is sometimes quiet during autumn , and it is snowy in april .\n",
      "small_vocab_fr Line 1:  new jersey est parfois calme pendant l' automne , et il est neigeux en avril .\n",
      "small_vocab_en Line 2:  the united states is usually chilly during july , and it is usually freezing in november .\n",
      "small_vocab_fr Line 2:  les états-unis est généralement froid en juillet , et il gèle habituellement en novembre .\n"
     ]
    }
   ],
   "source": [
    "for sample_i in range(2):\n",
    "    print('small_vocab_en Line {}:  {}'.format(sample_i + 1, english_sentences[sample_i]))\n",
    "    print('small_vocab_fr Line {}:  {}'.format(sample_i + 1, french_sentences[sample_i]))"
   ]
  },
  {
   "cell_type": "code",
   "execution_count": 6,
   "metadata": {},
   "outputs": [
    {
     "data": {
      "text/plain": [
       "(137861, 137861)"
      ]
     },
     "execution_count": 6,
     "metadata": {},
     "output_type": "execute_result"
    }
   ],
   "source": [
    "len(english_sentences), len(french_sentences)"
   ]
  },
  {
   "cell_type": "markdown",
   "metadata": {},
   "source": [
    "From looking at the sentences, you can see they have been preprocessed already.  The puncuations have been delimited using spaces. All the text have been converted to lowercase.  This should save you some time, but the text requires more preprocessing.\n",
    "### Vocabulary\n",
    "The complexity of the problem is determined by the complexity of the vocabulary.  A more complex vocabulary is a more complex problem.  Let's look at the complexity of the dataset we'll be working with."
   ]
  },
  {
   "cell_type": "code",
   "execution_count": 7,
   "metadata": {},
   "outputs": [
    {
     "name": "stdout",
     "output_type": "stream",
     "text": [
      "1823250 English words.\n",
      "227 unique English words.\n",
      "10 Most common words in the English dataset:\n",
      "\"is\" \",\" \".\" \"in\" \"it\" \"during\" \"the\" \"but\" \"and\" \"sometimes\"\n",
      "\n",
      "1961295 French words.\n",
      "355 unique French words.\n",
      "10 Most common words in the French dataset:\n",
      "\"est\" \".\" \",\" \"en\" \"il\" \"les\" \"mais\" \"et\" \"la\" \"parfois\"\n"
     ]
    }
   ],
   "source": [
    "english_words_counter = collections.Counter([word for sentence in english_sentences for word in sentence.split()])\n",
    "french_words_counter = collections.Counter([word for sentence in french_sentences for word in sentence.split()])\n",
    "\n",
    "print('{} English words.'.format(len([word for sentence in english_sentences for word in sentence.split()])))\n",
    "print('{} unique English words.'.format(len(english_words_counter)))\n",
    "print('10 Most common words in the English dataset:')\n",
    "print('\"' + '\" \"'.join(list(zip(*english_words_counter.most_common(10)))[0]) + '\"')\n",
    "print()\n",
    "print('{} French words.'.format(len([word for sentence in french_sentences for word in sentence.split()])))\n",
    "print('{} unique French words.'.format(len(french_words_counter)))\n",
    "print('10 Most common words in the French dataset:')\n",
    "print('\"' + '\" \"'.join(list(zip(*french_words_counter.most_common(10)))[0]) + '\"')"
   ]
  },
  {
   "cell_type": "markdown",
   "metadata": {},
   "source": [
    "For comparison, _Alice's Adventures in Wonderland_ contains 2,766 unique words of a total of 15,500 words.\n",
    "## Preprocess\n",
    "For this project, you won't use text data as input to your model. Instead, you'll convert the text into sequences of integers using the following preprocess methods:\n",
    "1. Tokenize the words into ids\n",
    "2. Add padding to make all the sequences the same length.\n",
    "\n",
    "Time to start preprocessing the data...\n",
    "### Tokenize (IMPLEMENTATION)\n",
    "For a neural network to predict on text data, it first has to be turned into data it can understand. Text data like \"dog\" is a sequence of ASCII character encodings.  Since a neural network is a series of multiplication and addition operations, the input data needs to be number(s).\n",
    "\n",
    "We can turn each character into a number or each word into a number.  These are called character and word ids, respectively.  Character ids are used for character level models that generate text predictions for each character.  A word level model uses word ids that generate text predictions for each word.  Word level models tend to learn better, since they are lower in complexity, so we'll use those.\n",
    "\n",
    "Turn each sentence into a sequence of words ids using Keras's [`Tokenizer`](https://keras.io/preprocessing/text/#tokenizer) function. Use this function to tokenize `english_sentences` and `french_sentences` in the cell below.\n",
    "\n",
    "Running the cell will run `tokenize` on sample data and show output for debugging."
   ]
  },
  {
   "cell_type": "code",
   "execution_count": 8,
   "metadata": {},
   "outputs": [
    {
     "name": "stdout",
     "output_type": "stream",
     "text": [
      "{'the': 1, 'quick': 2, 'a': 3, 'brown': 4, 'fox': 5, 'jumps': 6, 'over': 7, 'lazy': 8, 'dog': 9, 'by': 10, 'jove': 11, 'my': 12, 'study': 13, 'of': 14, 'lexicography': 15, 'won': 16, 'prize': 17, 'this': 18, 'is': 19, 'short': 20, 'sentence': 21}\n",
      "\n",
      "Sequence 1 in x\n",
      "  Input:  The quick brown fox jumps over the lazy dog .\n",
      "  Output: [1, 2, 4, 5, 6, 7, 1, 8, 9]\n",
      "Sequence 2 in x\n",
      "  Input:  By Jove , my quick study of lexicography won a prize .\n",
      "  Output: [10, 11, 12, 2, 13, 14, 15, 16, 3, 17]\n",
      "Sequence 3 in x\n",
      "  Input:  This is a short sentence .\n",
      "  Output: [18, 19, 3, 20, 21]\n"
     ]
    }
   ],
   "source": [
    "def tokenize(x):\n",
    "    \"\"\"\n",
    "    Tokenize x\n",
    "    :param x: List of sentences/strings to be tokenized\n",
    "    :return: Tuple of (tokenized x data, tokenizer used to tokenize x)\n",
    "    \"\"\"\n",
    "    # TODO: Implement\n",
    "    text_tokenizer = Tokenizer()\n",
    "    text_tokenizer.fit_on_texts(x)\n",
    "    text_tokenized = text_tokenizer.texts_to_sequences(x)\n",
    "    \n",
    "    return text_tokenized, text_tokenizer\n",
    "\n",
    "tests.test_tokenize(tokenize)\n",
    "\n",
    "# Tokenize Example output\n",
    "text_sentences = [\n",
    "    'The quick brown fox jumps over the lazy dog .',\n",
    "    'By Jove , my quick study of lexicography won a prize .',\n",
    "    'This is a short sentence .']\n",
    "text_tokenized, text_tokenizer = tokenize(text_sentences)\n",
    "print(text_tokenizer.word_index)\n",
    "print()\n",
    "for sample_i, (sent, token_sent) in enumerate(zip(text_sentences, text_tokenized)):\n",
    "    print('Sequence {} in x'.format(sample_i + 1))\n",
    "    print('  Input:  {}'.format(sent))\n",
    "    print('  Output: {}'.format(token_sent))"
   ]
  },
  {
   "cell_type": "markdown",
   "metadata": {},
   "source": [
    "### Padding (IMPLEMENTATION)\n",
    "When batching the sequence of word ids together, each sequence needs to be the same length.  Since sentences are dynamic in length, we can add padding to the end of the sequences to make them the same length.\n",
    "\n",
    "Make sure all the English sequences have the same length and all the French sequences have the same length by adding padding to the **end** of each sequence using Keras's [`pad_sequences`](https://keras.io/preprocessing/sequence/#pad_sequences) function."
   ]
  },
  {
   "cell_type": "code",
   "execution_count": 9,
   "metadata": {},
   "outputs": [
    {
     "name": "stdout",
     "output_type": "stream",
     "text": [
      "Sequence 1 in x\n",
      "  Input:  [1 2 4 5 6 7 1 8 9]\n",
      "  Output: [1 2 4 5 6 7 1 8 9 0]\n",
      "Sequence 2 in x\n",
      "  Input:  [10 11 12  2 13 14 15 16  3 17]\n",
      "  Output: [10 11 12  2 13 14 15 16  3 17]\n",
      "Sequence 3 in x\n",
      "  Input:  [18 19  3 20 21]\n",
      "  Output: [18 19  3 20 21  0  0  0  0  0]\n"
     ]
    }
   ],
   "source": [
    "def pad(x, length=None):\n",
    "    \"\"\"\n",
    "    Pad x\n",
    "    :param x: List of sequences.\n",
    "    :param length: Length to pad the sequence to.  If None, use length of longest sequence in x.\n",
    "    :return: Padded numpy array of sequences\n",
    "    \"\"\"\n",
    "    # TODO: Implement\n",
    "    max_length = 0\n",
    "    \n",
    "    if length!=None:\n",
    "        max_length = length\n",
    "    else:\n",
    "        for i in x:\n",
    "            if len(i) > max_length:\n",
    "                max_length = len(i)\n",
    "                \n",
    "    return pad_sequences(x, maxlen=max_length, padding='post')\n",
    "\n",
    "tests.test_pad(pad)\n",
    "\n",
    "# Pad Tokenized output\n",
    "test_pad = pad(text_tokenized)\n",
    "for sample_i, (token_sent, pad_sent) in enumerate(zip(text_tokenized, test_pad)):\n",
    "    print('Sequence {} in x'.format(sample_i + 1))\n",
    "    print('  Input:  {}'.format(np.array(token_sent)))\n",
    "    print('  Output: {}'.format(pad_sent))"
   ]
  },
  {
   "cell_type": "markdown",
   "metadata": {},
   "source": [
    "### Preprocess Pipeline\n",
    "Your focus for this project is to build neural network architecture, so we won't ask you to create a preprocess pipeline.  Instead, we've provided you with the implementation of the `preprocess` function."
   ]
  },
  {
   "cell_type": "code",
   "execution_count": 10,
   "metadata": {},
   "outputs": [
    {
     "name": "stdout",
     "output_type": "stream",
     "text": [
      "Data Preprocessed\n",
      "Max English sentence length: 15\n",
      "Max French sentence length: 21\n",
      "English vocabulary size: 199\n",
      "French vocabulary size: 344\n"
     ]
    }
   ],
   "source": [
    "def preprocess(x, y):\n",
    "    \"\"\"\n",
    "    Preprocess x and y\n",
    "    :param x: Feature List of sentences\n",
    "    :param y: Label List of sentences\n",
    "    :return: Tuple of (Preprocessed x, Preprocessed y, x tokenizer, y tokenizer)\n",
    "    \"\"\"\n",
    "    preprocess_x, x_tk = tokenize(x)\n",
    "    preprocess_y, y_tk = tokenize(y)\n",
    "\n",
    "    preprocess_x = pad(preprocess_x)\n",
    "    preprocess_y = pad(preprocess_y)\n",
    "\n",
    "    # Keras's sparse_categorical_crossentropy function requires the labels to be in 3 dimensions\n",
    "    preprocess_y = preprocess_y.reshape(*preprocess_y.shape, 1)\n",
    "\n",
    "    return preprocess_x, preprocess_y, x_tk, y_tk\n",
    "\n",
    "preproc_english_sentences, preproc_french_sentences, english_tokenizer, french_tokenizer =\\\n",
    "    preprocess(english_sentences, french_sentences)\n",
    "    \n",
    "max_english_sequence_length = preproc_english_sentences.shape[1]\n",
    "max_french_sequence_length = preproc_french_sentences.shape[1]\n",
    "english_vocab_size = len(english_tokenizer.word_index)\n",
    "french_vocab_size = len(french_tokenizer.word_index)\n",
    "\n",
    "print('Data Preprocessed')\n",
    "print(\"Max English sentence length:\", max_english_sequence_length)\n",
    "print(\"Max French sentence length:\", max_french_sequence_length)\n",
    "print(\"English vocabulary size:\", english_vocab_size)\n",
    "print(\"French vocabulary size:\", french_vocab_size)"
   ]
  },
  {
   "cell_type": "code",
   "execution_count": 11,
   "metadata": {
    "scrolled": true
   },
   "outputs": [
    {
     "data": {
      "text/plain": [
       "((137861, 15), (137861, 21, 1))"
      ]
     },
     "execution_count": 11,
     "metadata": {},
     "output_type": "execute_result"
    }
   ],
   "source": [
    "preproc_english_sentences.shape, preproc_french_sentences.shape"
   ]
  },
  {
   "cell_type": "code",
   "execution_count": 12,
   "metadata": {},
   "outputs": [
    {
     "data": {
      "text/plain": [
       "array([17, 23,  1,  8, 67,  4, 39,  7,  3,  1, 55,  2, 44,  0,  0], dtype=int32)"
      ]
     },
     "execution_count": 12,
     "metadata": {},
     "output_type": "execute_result"
    }
   ],
   "source": [
    "preproc_english_sentences[0]"
   ]
  },
  {
   "cell_type": "code",
   "execution_count": 13,
   "metadata": {},
   "outputs": [
    {
     "data": {
      "text/plain": [
       "array([[ 35],\n",
       "       [ 34],\n",
       "       [  1],\n",
       "       [  8],\n",
       "       [ 67],\n",
       "       [ 37],\n",
       "       [ 11],\n",
       "       [ 24],\n",
       "       [  6],\n",
       "       [  3],\n",
       "       [  1],\n",
       "       [112],\n",
       "       [  2],\n",
       "       [ 50],\n",
       "       [  0],\n",
       "       [  0],\n",
       "       [  0],\n",
       "       [  0],\n",
       "       [  0],\n",
       "       [  0],\n",
       "       [  0]], dtype=int32)"
      ]
     },
     "execution_count": 13,
     "metadata": {},
     "output_type": "execute_result"
    }
   ],
   "source": [
    "preproc_french_sentences[0]"
   ]
  },
  {
   "cell_type": "markdown",
   "metadata": {},
   "source": [
    "## Models\n",
    "In this section, you will experiment with various neural network architectures.\n",
    "You will begin by training four relatively simple architectures.\n",
    "- Model 1 is a simple RNN\n",
    "- Model 2 is a RNN with Embedding\n",
    "- Model 3 is a Bidirectional RNN\n",
    "- Model 4 is an optional Encoder-Decoder RNN\n",
    "\n",
    "After experimenting with the four simple architectures, you will construct a deeper architecture that is designed to outperform all four models.\n",
    "### Ids Back to Text\n",
    "The neural network will be translating the input to words ids, which isn't the final form we want.  We want the French translation.  The function `logits_to_text` will bridge the gab between the logits from the neural network to the French translation.  You'll be using this function to better understand the output of the neural network."
   ]
  },
  {
   "cell_type": "code",
   "execution_count": 14,
   "metadata": {},
   "outputs": [
    {
     "name": "stdout",
     "output_type": "stream",
     "text": [
      "`logits_to_text` function loaded.\n"
     ]
    }
   ],
   "source": [
    "def logits_to_text(logits, tokenizer):\n",
    "    \"\"\"\n",
    "    Turn logits from a neural network into text using the tokenizer\n",
    "    :param logits: Logits from a neural network\n",
    "    :param tokenizer: Keras Tokenizer fit on the labels\n",
    "    :return: String that represents the text of the logits\n",
    "    \"\"\"\n",
    "    index_to_words = {id: word for word, id in tokenizer.word_index.items()}\n",
    "    index_to_words[0] = '<PAD>'\n",
    "\n",
    "    return ' '.join([index_to_words[prediction] for prediction in np.argmax(logits, 1)])\n",
    "\n",
    "print('`logits_to_text` function loaded.')"
   ]
  },
  {
   "cell_type": "markdown",
   "metadata": {},
   "source": [
    "### Model 1: RNN (IMPLEMENTATION)\n",
    "![RNN](images/rnn.png)\n",
    "A basic RNN model is a good baseline for sequence data.  In this model, you'll build a RNN that translates English to French."
   ]
  },
  {
   "cell_type": "code",
   "execution_count": 15,
   "metadata": {},
   "outputs": [
    {
     "data": {
      "text/plain": [
       "(137861, 21, 1)"
      ]
     },
     "execution_count": 15,
     "metadata": {},
     "output_type": "execute_result"
    }
   ],
   "source": [
    "tmp_x = pad(preproc_english_sentences, max_french_sequence_length)\n",
    "tmp_x = tmp_x.reshape((-1, preproc_french_sentences.shape[-2], 1))\n",
    "tmp_x.shape"
   ]
  },
  {
   "cell_type": "code",
   "execution_count": 16,
   "metadata": {},
   "outputs": [],
   "source": [
    "input_shape = tmp_x.shape"
   ]
  },
  {
   "cell_type": "code",
   "execution_count": 19,
   "metadata": {
    "scrolled": true
   },
   "outputs": [
    {
     "name": "stdout",
     "output_type": "stream",
     "text": [
      "_________________________________________________________________\n",
      "Layer (type)                 Output Shape              Param #   \n",
      "=================================================================\n",
      "input_1 (InputLayer)         (None, 21, 1)             0         \n",
      "_________________________________________________________________\n",
      "gru_1 (GRU)                  (None, 21, 100)           30600     \n",
      "_________________________________________________________________\n",
      "time_distributed_1 (TimeDist (None, 21, 344)           34744     \n",
      "=================================================================\n",
      "Total params: 65,344\n",
      "Trainable params: 65,344\n",
      "Non-trainable params: 0\n",
      "_________________________________________________________________\n",
      "None\n"
     ]
    }
   ],
   "source": [
    "inputs = Input(shape=(input_shape[1:]))\n",
    "RNN_1 = GRU(units=100, return_sequences=True)(inputs)\n",
    "outputs = TimeDistributed(Dense(french_vocab_size, activation='softmax'))(RNN_1)\n",
    "    \n",
    "model = Model(inputs=inputs, outputs=outputs)\n",
    "print(model.summary())"
   ]
  },
  {
   "cell_type": "code",
   "execution_count": 20,
   "metadata": {},
   "outputs": [
    {
     "name": "stdout",
     "output_type": "stream",
     "text": [
      "Train on 110288 samples, validate on 27573 samples\n",
      "Epoch 1/10\n",
      "110288/110288 [==============================] - 9s 80us/step - loss: 3.1298 - acc: 0.4298 - val_loss: nan - val_acc: 0.4676\n",
      "Epoch 2/10\n",
      "110288/110288 [==============================] - 7s 61us/step - loss: 2.2078 - acc: 0.5046 - val_loss: nan - val_acc: 0.5526\n",
      "Epoch 3/10\n",
      "110288/110288 [==============================] - 7s 61us/step - loss: 1.8477 - acc: 0.5654 - val_loss: nan - val_acc: 0.5751\n",
      "Epoch 4/10\n",
      "110288/110288 [==============================] - 7s 62us/step - loss: 1.6695 - acc: 0.5844 - val_loss: nan - val_acc: 0.5899\n",
      "Epoch 5/10\n",
      "110288/110288 [==============================] - 7s 62us/step - loss: 1.5696 - acc: 0.5981 - val_loss: nan - val_acc: 0.6040\n",
      "Epoch 6/10\n",
      "110288/110288 [==============================] - 7s 61us/step - loss: 1.4981 - acc: 0.6093 - val_loss: nan - val_acc: 0.6114\n",
      "Epoch 7/10\n",
      "110288/110288 [==============================] - 7s 61us/step - loss: 1.4377 - acc: 0.6170 - val_loss: nan - val_acc: 0.6238\n",
      "Epoch 8/10\n",
      "110288/110288 [==============================] - 7s 61us/step - loss: 1.3831 - acc: 0.6262 - val_loss: nan - val_acc: 0.6331\n",
      "Epoch 9/10\n",
      "110288/110288 [==============================] - 7s 62us/step - loss: 1.3320 - acc: 0.6358 - val_loss: nan - val_acc: 0.6386\n",
      "Epoch 10/10\n",
      "110288/110288 [==============================] - 7s 62us/step - loss: 1.2875 - acc: 0.6419 - val_loss: nan - val_acc: 0.6453\n",
      "new jersey est parfois parfois en l' et il est est en en <PAD> <PAD> <PAD> <PAD> <PAD> <PAD> <PAD> <PAD>\n"
     ]
    }
   ],
   "source": [
    "def simple_model(input_shape, output_sequence_length, english_vocab_size, french_vocab_size):\n",
    "    \"\"\"\n",
    "    Build and train a basic RNN on x and y\n",
    "    :param input_shape: Tuple of input shape\n",
    "    :param output_sequence_length: Length of output sequence\n",
    "    :param english_vocab_size: Number of unique English words in the dataset\n",
    "    :param french_vocab_size: Number of unique French words in the dataset\n",
    "    :return: Keras model built, but not trained\n",
    "    \"\"\"\n",
    "    # TODO: Build the layers\n",
    "    inputs = Input(shape=(input_shape[1:]))\n",
    "    RNN_1 = GRU(units=100, return_sequences=True)(inputs)\n",
    "    outputs = TimeDistributed(Dense(french_vocab_size, activation='softmax'))(RNN_1)\n",
    "    \n",
    "    model = Model(inputs=inputs, outputs=outputs)\n",
    "    learning_rate = 1e-3\n",
    "    model.compile(loss=sparse_categorical_crossentropy,\n",
    "                  optimizer=Adam(learning_rate),\n",
    "                  metrics=['accuracy'])\n",
    "    return model\n",
    "tests.test_simple_model(simple_model)\n",
    "\n",
    "# Reshaping the input to work with a basic RNN\n",
    "tmp_x = pad(preproc_english_sentences, max_french_sequence_length)\n",
    "tmp_x = tmp_x.reshape((-1, preproc_french_sentences.shape[-2], 1))\n",
    "\n",
    "\n",
    "# Train the neural network\n",
    "simple_rnn_model = simple_model(\n",
    "    tmp_x.shape,\n",
    "    max_french_sequence_length,\n",
    "    english_vocab_size,\n",
    "    french_vocab_size)\n",
    "simple_rnn_model.fit(tmp_x, preproc_french_sentences, batch_size=1024, epochs=10, validation_split=0.2)\n",
    "\n",
    "# Print prediction(s)\n",
    "print(logits_to_text(simple_rnn_model.predict(tmp_x[:1])[0], french_tokenizer))"
   ]
  },
  {
   "cell_type": "markdown",
   "metadata": {},
   "source": [
    "### Model 2: Embedding (IMPLEMENTATION)\n",
    "![RNN](images/embedding.png)\n",
    "You've turned the words into ids, but there's a better representation of a word.  This is called word embeddings.  An embedding is a vector representation of the word that is close to similar words in n-dimensional space, where the n represents the size of the embedding vectors.\n",
    "\n",
    "In this model, you'll create a RNN model using embedding."
   ]
  },
  {
   "cell_type": "code",
   "execution_count": 21,
   "metadata": {},
   "outputs": [
    {
     "name": "stdout",
     "output_type": "stream",
     "text": [
      "_________________________________________________________________\n",
      "Layer (type)                 Output Shape              Param #   \n",
      "=================================================================\n",
      "input_4 (InputLayer)         (None, 21)                0         \n",
      "_________________________________________________________________\n",
      "embedding_1 (Embedding)      (None, 21, 100)           19900     \n",
      "_________________________________________________________________\n",
      "gru_4 (GRU)                  (None, 21, 100)           60300     \n",
      "_________________________________________________________________\n",
      "time_distributed_4 (TimeDist (None, 21, 344)           34744     \n",
      "=================================================================\n",
      "Total params: 114,944\n",
      "Trainable params: 114,944\n",
      "Non-trainable params: 0\n",
      "_________________________________________________________________\n",
      "None\n"
     ]
    }
   ],
   "source": [
    "inputs = Input(shape=(input_shape[1],))\n",
    "embd_inputs = Embedding(input_dim=english_vocab_size, output_dim=100)(inputs)\n",
    "RNN_1 = GRU(units=100, return_sequences=True)(embd_inputs)\n",
    "outputs = TimeDistributed(Dense(french_vocab_size, activation='softmax'))(RNN_1)\n",
    "    \n",
    "model = Model(inputs=inputs, outputs=outputs)\n",
    "print(model.summary())"
   ]
  },
  {
   "cell_type": "code",
   "execution_count": 24,
   "metadata": {
    "scrolled": true
   },
   "outputs": [
    {
     "name": "stdout",
     "output_type": "stream",
     "text": [
      "Train on 110288 samples, validate on 27573 samples\n",
      "Epoch 1/10\n",
      "110288/110288 [==============================] - 8s 76us/step - loss: 3.5268 - acc: 0.4026 - val_loss: nan - val_acc: 0.4094\n",
      "Epoch 2/10\n",
      "110288/110288 [==============================] - 8s 73us/step - loss: 2.3617 - acc: 0.4970 - val_loss: nan - val_acc: 0.5824\n",
      "Epoch 3/10\n",
      "110288/110288 [==============================] - 8s 73us/step - loss: 1.5434 - acc: 0.6370 - val_loss: nan - val_acc: 0.6914\n",
      "Epoch 4/10\n",
      "110288/110288 [==============================] - 8s 73us/step - loss: 1.1175 - acc: 0.7270 - val_loss: nan - val_acc: 0.7577\n",
      "Epoch 5/10\n",
      "110288/110288 [==============================] - 8s 73us/step - loss: 0.8884 - acc: 0.7724 - val_loss: nan - val_acc: 0.7905\n",
      "Epoch 6/10\n",
      "110288/110288 [==============================] - 8s 73us/step - loss: 0.7452 - acc: 0.8011 - val_loss: nan - val_acc: 0.8154\n",
      "Epoch 7/10\n",
      "110288/110288 [==============================] - 8s 73us/step - loss: 0.6411 - acc: 0.8248 - val_loss: nan - val_acc: 0.8344\n",
      "Epoch 8/10\n",
      "110288/110288 [==============================] - 8s 73us/step - loss: 0.5639 - acc: 0.8414 - val_loss: nan - val_acc: 0.8478\n",
      "Epoch 9/10\n",
      "110288/110288 [==============================] - 8s 73us/step - loss: 0.5061 - acc: 0.8549 - val_loss: nan - val_acc: 0.8614\n",
      "Epoch 10/10\n",
      "110288/110288 [==============================] - 8s 73us/step - loss: 0.4605 - acc: 0.8672 - val_loss: nan - val_acc: 0.8729\n",
      "new jersey est parfois calme en l' et l' il il neigeux en avril <PAD> <PAD> <PAD> <PAD> <PAD> <PAD> <PAD>\n"
     ]
    }
   ],
   "source": [
    "def embed_model(input_shape, output_sequence_length, english_vocab_size, french_vocab_size):\n",
    "    \"\"\"\n",
    "    Build and train a RNN model using word embedding on x and y\n",
    "    :param input_shape: Tuple of input shape\n",
    "    :param output_sequence_length: Length of output sequence\n",
    "    :param english_vocab_size: Number of unique English words in the dataset\n",
    "    :param french_vocab_size: Number of unique French words in the dataset\n",
    "    :return: Keras model built, but not trained\n",
    "    \"\"\"\n",
    "    # TODO: Implement\n",
    "    inputs = Input(shape=(input_shape[1],))\n",
    "    embd_inputs = Embedding(input_dim=english_vocab_size, output_dim=100)(inputs)\n",
    "    RNN_1 = GRU(units=100, return_sequences=True)(embd_inputs)\n",
    "    outputs = TimeDistributed(Dense(french_vocab_size, activation='softmax'))(RNN_1)\n",
    "    \n",
    "    model = Model(inputs=inputs, outputs=outputs)\n",
    "    \n",
    "    learning_rate = 1e-3\n",
    "    model.compile(loss=sparse_categorical_crossentropy,\n",
    "                  optimizer=Adam(learning_rate),\n",
    "                  metrics=['accuracy'])\n",
    "    \n",
    "    return model\n",
    "tests.test_embed_model(embed_model)\n",
    "\n",
    "\n",
    "# TODO: Reshape the input\n",
    "tmp_x = pad(preproc_english_sentences, max_french_sequence_length)\n",
    "tmp_x = tmp_x.reshape((-1, preproc_french_sentences.shape[-2]))\n",
    "\n",
    "# TODO: Train the neural network\n",
    "embed_rnn_model = embed_model(\n",
    "    tmp_x.shape,\n",
    "    max_french_sequence_length,\n",
    "    english_vocab_size,\n",
    "    french_vocab_size)\n",
    "embed_rnn_model.fit(tmp_x, preproc_french_sentences, batch_size=1024, epochs=10, validation_split=0.2)\n",
    "\n",
    "# TODO: Print prediction(s)\n",
    "print(logits_to_text(embed_rnn_model.predict(tmp_x[:1])[0], french_tokenizer))\n"
   ]
  },
  {
   "cell_type": "code",
   "execution_count": 23,
   "metadata": {},
   "outputs": [
    {
     "data": {
      "text/plain": [
       "(1, 21)"
      ]
     },
     "execution_count": 23,
     "metadata": {},
     "output_type": "execute_result"
    }
   ],
   "source": [
    "tmp_x[:1].shape"
   ]
  },
  {
   "cell_type": "markdown",
   "metadata": {},
   "source": [
    "### Model 3: Bidirectional RNNs (IMPLEMENTATION)\n",
    "![RNN](images/bidirectional.png)\n",
    "One restriction of a RNN is that it can't see the future input, only the past.  This is where bidirectional recurrent neural networks come in.  They are able to see the future data."
   ]
  },
  {
   "cell_type": "code",
   "execution_count": 32,
   "metadata": {},
   "outputs": [
    {
     "name": "stdout",
     "output_type": "stream",
     "text": [
      "_________________________________________________________________\n",
      "Layer (type)                 Output Shape              Param #   \n",
      "=================================================================\n",
      "input_18 (InputLayer)        (None, 21, 1)             0         \n",
      "_________________________________________________________________\n",
      "reshape_7 (Reshape)          (None, 21)                0         \n",
      "_________________________________________________________________\n",
      "embedding_10 (Embedding)     (None, 21, 100)           19900     \n",
      "_________________________________________________________________\n",
      "bidirectional_8 (Bidirection (None, 21, 200)           120600    \n",
      "_________________________________________________________________\n",
      "bidirectional_9 (Bidirection (None, 21, 200)           180600    \n",
      "_________________________________________________________________\n",
      "time_distributed_16 (TimeDis (None, 21, 344)           69144     \n",
      "=================================================================\n",
      "Total params: 390,244\n",
      "Trainable params: 390,244\n",
      "Non-trainable params: 0\n",
      "_________________________________________________________________\n",
      "None\n"
     ]
    }
   ],
   "source": [
    "inputs = Input(shape=(input_shape[1:]))\n",
    "inputs_reshape = Reshape((-1,))(inputs)\n",
    "embd_inputs = Embedding(input_dim=english_vocab_size, output_dim=100)(inputs_reshape)\n",
    "Bi_RNN_1 = Bidirectional(GRU(units=100, return_sequences=True), merge_mode='concat')(embd_inputs)\n",
    "Bi_RNN_2 = Bidirectional(GRU(units=100, return_sequences=True), merge_mode='concat')(Bi_RNN_1)\n",
    "outputs = TimeDistributed(Dense(french_vocab_size, activation='softmax'))(Bi_RNN_2)\n",
    "    \n",
    "model = Model(inputs=inputs, outputs=outputs)\n",
    "print(model.summary())"
   ]
  },
  {
   "cell_type": "code",
   "execution_count": 34,
   "metadata": {},
   "outputs": [
    {
     "name": "stdout",
     "output_type": "stream",
     "text": [
      "Train on 110288 samples, validate on 27573 samples\n",
      "Epoch 1/10\n",
      "110288/110288 [==============================] - 26s 234us/step - loss: 2.9350 - acc: 0.4581 - val_loss: nan - val_acc: 0.5046\n",
      "Epoch 2/10\n",
      "110288/110288 [==============================] - 24s 220us/step - loss: 1.7182 - acc: 0.5845 - val_loss: nan - val_acc: 0.6579\n",
      "Epoch 3/10\n",
      "110288/110288 [==============================] - 24s 221us/step - loss: 1.1256 - acc: 0.7091 - val_loss: nan - val_acc: 0.7509\n",
      "Epoch 4/10\n",
      "110288/110288 [==============================] - 24s 221us/step - loss: 0.8313 - acc: 0.7784 - val_loss: nan - val_acc: 0.8031\n",
      "Epoch 5/10\n",
      "110288/110288 [==============================] - 24s 221us/step - loss: 0.6541 - acc: 0.8218 - val_loss: nan - val_acc: 0.8381\n",
      "Epoch 6/10\n",
      "110288/110288 [==============================] - 24s 220us/step - loss: 0.5321 - acc: 0.8504 - val_loss: nan - val_acc: 0.8613\n",
      "Epoch 7/10\n",
      "110288/110288 [==============================] - 24s 220us/step - loss: 0.4526 - acc: 0.8701 - val_loss: nan - val_acc: 0.8772\n",
      "Epoch 8/10\n",
      "110288/110288 [==============================] - 24s 220us/step - loss: 0.3930 - acc: 0.8861 - val_loss: nan - val_acc: 0.8925\n",
      "Epoch 9/10\n",
      "110288/110288 [==============================] - 24s 221us/step - loss: 0.3440 - acc: 0.8987 - val_loss: nan - val_acc: 0.9036\n",
      "Epoch 10/10\n",
      "110288/110288 [==============================] - 24s 220us/step - loss: 0.2996 - acc: 0.9100 - val_loss: nan - val_acc: 0.9133\n",
      "new jersey est parfois calme au cours automne il automne neigeux en avril <PAD> <PAD> <PAD> <PAD> <PAD> <PAD> <PAD> <PAD>\n"
     ]
    }
   ],
   "source": [
    "def bd_model(input_shape, output_sequence_length, english_vocab_size, french_vocab_size):\n",
    "    \"\"\"\n",
    "    Build and train a bidirectional RNN model on x and y\n",
    "    :param input_shape: Tuple of input shape\n",
    "    :param output_sequence_length: Length of output sequence\n",
    "    :param english_vocab_size: Number of unique English words in the dataset\n",
    "    :param french_vocab_size: Number of unique French words in the dataset\n",
    "    :return: Keras model built, but not trained\n",
    "    \"\"\"\n",
    "    # TODO: Implement\n",
    "    inputs = Input(shape=(input_shape[1:]))\n",
    "    inputs_reshape = Reshape((-1,))(inputs)\n",
    "    embd_inputs = Embedding(input_dim=english_vocab_size, output_dim=100)(inputs_reshape)\n",
    "    Bi_RNN_1 = Bidirectional(GRU(units=100, return_sequences=True), merge_mode='concat')(embd_inputs)\n",
    "    Bi_RNN_2 = Bidirectional(GRU(units=100, return_sequences=True), merge_mode='concat')(Bi_RNN_1)\n",
    "    outputs = TimeDistributed(Dense(french_vocab_size, activation='softmax'))(Bi_RNN_2)\n",
    "    \n",
    "    model = Model(inputs=inputs, outputs=outputs)\n",
    "    \n",
    "    learning_rate = 1e-3\n",
    "    model.compile(loss=sparse_categorical_crossentropy,\n",
    "                  optimizer=Adam(learning_rate),\n",
    "                  metrics=['accuracy'])\n",
    "    \n",
    "    return model\n",
    "tests.test_bd_model(bd_model)\n",
    "\n",
    "# Reshaping the input to work with a basic RNN\n",
    "tmp_x = pad(preproc_english_sentences, max_french_sequence_length)\n",
    "tmp_x = tmp_x.reshape((-1, preproc_french_sentences.shape[-2], 1))\n",
    "\n",
    "# Train the neural network\n",
    "bd_rnn_model = bd_model(\n",
    "    tmp_x.shape,\n",
    "    max_french_sequence_length,\n",
    "    english_vocab_size,\n",
    "    french_vocab_size)\n",
    "bd_rnn_model.fit(tmp_x, preproc_french_sentences, batch_size=1024, epochs=10, validation_split=0.2)\n",
    "\n",
    "# Print prediction(s)\n",
    "print(logits_to_text(bd_rnn_model.predict(tmp_x[:1])[0], french_tokenizer))"
   ]
  },
  {
   "cell_type": "markdown",
   "metadata": {},
   "source": [
    "### Model 4: Encoder-Decoder (OPTIONAL)\n",
    "Time to look at encoder-decoder models.  This model is made up of an encoder and decoder. The encoder creates a matrix representation of the sentence.  The decoder takes this matrix as input and predicts the translation as output.\n",
    "\n",
    "Create an encoder-decoder model in the cell below."
   ]
  },
  {
   "cell_type": "code",
   "execution_count": 50,
   "metadata": {},
   "outputs": [
    {
     "name": "stdout",
     "output_type": "stream",
     "text": [
      "_________________________________________________________________\n",
      "Layer (type)                 Output Shape              Param #   \n",
      "=================================================================\n",
      "input_40 (InputLayer)        (None, 21)                0         \n",
      "_________________________________________________________________\n",
      "embedding_32 (Embedding)     (None, 21, 100)           19900     \n",
      "_________________________________________________________________\n",
      "gru_56 (GRU)                 (None, 100)               60300     \n",
      "_________________________________________________________________\n",
      "repeat_vector_16 (RepeatVect (None, 21, 100)           0         \n",
      "_________________________________________________________________\n",
      "gru_57 (GRU)                 (None, 21, 100)           60300     \n",
      "_________________________________________________________________\n",
      "batch_normalization_6 (Batch (None, 21, 100)           400       \n",
      "_________________________________________________________________\n",
      "time_distributed_36 (TimeDis (None, 21, 344)           34744     \n",
      "=================================================================\n",
      "Total params: 175,644\n",
      "Trainable params: 175,444\n",
      "Non-trainable params: 200\n",
      "_________________________________________________________________\n",
      "None\n"
     ]
    }
   ],
   "source": [
    "# encoder RNN\n",
    "inputs = Input(shape=(input_shape[1],))\n",
    "embd_inputs = Embedding(input_dim=english_vocab_size, output_dim=100)(inputs)\n",
    "RNN_1 = GRU(units=100, return_sequences=False)(embd_inputs)\n",
    "decode_inputs = RepeatVector(21)(RNN_1)\n",
    "\n",
    "# decoder RNN\n",
    "RNN_2 = GRU(units=100, return_sequences=True)(decode_inputs)\n",
    "batch_RNN_2 = BatchNormalization(axis=-1)(RNN_2)\n",
    "outputs = TimeDistributed(Dense(french_vocab_size, activation='softmax'))(batch_RNN_2)\n",
    "\n",
    "model = Model(inputs=inputs, outputs=outputs)\n",
    "print(model.summary())\n"
   ]
  },
  {
   "cell_type": "code",
   "execution_count": 43,
   "metadata": {},
   "outputs": [
    {
     "name": "stdout",
     "output_type": "stream",
     "text": [
      "Train on 110288 samples, validate on 27573 samples\n",
      "Epoch 1/10\n",
      "110288/110288 [==============================] - 14s 128us/step - loss: 2.2367 - acc: 0.5055 - val_loss: nan - val_acc: 0.5095\n",
      "Epoch 2/10\n",
      "110288/110288 [==============================] - 12s 106us/step - loss: 1.1957 - acc: 0.6581 - val_loss: nan - val_acc: 0.6271\n",
      "Epoch 3/10\n",
      "110288/110288 [==============================] - 12s 106us/step - loss: 0.7132 - acc: 0.7795 - val_loss: nan - val_acc: 0.8086\n",
      "Epoch 4/10\n",
      "110288/110288 [==============================] - 12s 106us/step - loss: 0.4855 - acc: 0.8495 - val_loss: nan - val_acc: 0.8906\n",
      "Epoch 5/10\n",
      "110288/110288 [==============================] - 12s 106us/step - loss: 0.2784 - acc: 0.9166 - val_loss: nan - val_acc: 0.9209\n",
      "Epoch 6/10\n",
      "110288/110288 [==============================] - 12s 106us/step - loss: 0.2149 - acc: 0.9373 - val_loss: nan - val_acc: 0.9339\n",
      "Epoch 7/10\n",
      "110288/110288 [==============================] - 12s 106us/step - loss: 0.2303 - acc: 0.9352 - val_loss: nan - val_acc: 0.9421\n",
      "Epoch 8/10\n",
      "110288/110288 [==============================] - 12s 106us/step - loss: 0.1567 - acc: 0.9555 - val_loss: nan - val_acc: 0.9528\n",
      "Epoch 9/10\n",
      "110288/110288 [==============================] - 12s 106us/step - loss: 0.1408 - acc: 0.9600 - val_loss: nan - val_acc: 0.9601\n",
      "Epoch 10/10\n",
      "110288/110288 [==============================] - 12s 106us/step - loss: 0.1322 - acc: 0.9623 - val_loss: nan - val_acc: 0.9635\n",
      "new jersey est parfois calme pendant l' automne et il est neigeux en avril <PAD> <PAD> <PAD> <PAD> <PAD> <PAD> <PAD>\n"
     ]
    }
   ],
   "source": [
    "def encdec_model(input_shape, output_sequence_length, english_vocab_size, french_vocab_size):\n",
    "    \"\"\"\n",
    "    Build and train an encoder-decoder model on x and y\n",
    "    :param input_shape: Tuple of input shape\n",
    "    :param output_sequence_length: Length of output sequence\n",
    "    :param english_vocab_size: Number of unique English words in the dataset\n",
    "    :param french_vocab_size: Number of unique French words in the dataset\n",
    "    :return: Keras model built, but not trained\n",
    "    \"\"\"\n",
    "    # OPTIONAL: Implement\n",
    "    # encoder RNN\n",
    "    inputs = Input(shape=(input_shape[1:]))\n",
    "    inputs_reshape = Reshape((-1,))(inputs)\n",
    "    embd_inputs = Embedding(input_dim=english_vocab_size, output_dim=100)(inputs_reshape)\n",
    "    RNN_1 = GRU(units=100, return_sequences=False)(embd_inputs)\n",
    "    decode_inputs = RepeatVector(output_sequence_length)(RNN_1)\n",
    "\n",
    "    # decoder RNN\n",
    "    RNN_2 = GRU(units=100, return_sequences=True)(decode_inputs)\n",
    "    batch_RNN_2 = BatchNormalization(axis=-1)(RNN_2)\n",
    "    outputs = TimeDistributed(Dense(french_vocab_size, activation='softmax'))(batch_RNN_2)\n",
    "\n",
    "    model = Model(inputs=inputs, outputs=outputs)\n",
    "    learning_rate = 1e-2\n",
    "    model.compile(loss=sparse_categorical_crossentropy,\n",
    "                  optimizer=Adam(learning_rate),\n",
    "                  metrics=['accuracy'])\n",
    "    \n",
    "    return model\n",
    "tests.test_encdec_model(encdec_model)\n",
    "\n",
    "# OPTIONAL: Train and Print prediction(s)\n",
    "# Reshaping the input to work with a basic RNN\n",
    "tmp_x = pad(preproc_english_sentences, max_english_sequence_length)\n",
    "#tmp_x = tmp_x.reshape((-1, preproc_french_sentences.shape[-2], 1))\n",
    "\n",
    "encdec_rnn_model = encdec_model(\n",
    "    tmp_x.shape,\n",
    "    max_french_sequence_length,\n",
    "    english_vocab_size,\n",
    "    french_vocab_size)\n",
    "encdec_rnn_model.fit(tmp_x, preproc_french_sentences, batch_size=1024, epochs=10, validation_split=0.2)\n",
    "\n",
    "# Print prediction(s)\n",
    "print(logits_to_text(encdec_rnn_model.predict(tmp_x[:1])[0], french_tokenizer))"
   ]
  },
  {
   "cell_type": "markdown",
   "metadata": {},
   "source": [
    "### Model 5: Custom (IMPLEMENTATION)\n",
    "Use everything you learned from the previous models to create a model that incorporates embedding and a bidirectional rnn into one model."
   ]
  },
  {
   "cell_type": "code",
   "execution_count": 17,
   "metadata": {},
   "outputs": [
    {
     "data": {
      "text/plain": [
       "(137861, 15)"
      ]
     },
     "execution_count": 17,
     "metadata": {},
     "output_type": "execute_result"
    }
   ],
   "source": [
    "tmp_x = pad(preproc_english_sentences, max_english_sequence_length)\n",
    "#tmp_x = tmp_x.reshape((-1, preproc_english_sentences.shape[-2]))\n",
    "tmp_x.shape"
   ]
  },
  {
   "cell_type": "code",
   "execution_count": 18,
   "metadata": {},
   "outputs": [],
   "source": [
    "from keras.callbacks import LearningRateScheduler\n",
    "def lr_decay(epoch):\n",
    "    lr_matrix = np.ones(18)\n",
    "    lr_matrix[0:12] = 5e-3\n",
    "    lr_matrix[12:16] = 2e-3\n",
    "    lr_matrix[16:] = 1e-3\n",
    "    #lr_matrix[17:] = 0.8e-3\n",
    "    \n",
    "    return lr_matrix[epoch]\n",
    "\n",
    "lrrate = LearningRateScheduler(lr_decay)\n",
    "callbacks_list = [lrrate]"
   ]
  },
  {
   "cell_type": "code",
   "execution_count": 19,
   "metadata": {},
   "outputs": [
    {
     "name": "stdout",
     "output_type": "stream",
     "text": [
      "Final Model Loaded\n",
      "Train on 110288 samples, validate on 27573 samples\n",
      "Epoch 1/18\n",
      "110288/110288 [==============================] - 24s 214us/step - loss: 1.6661 - acc: 0.5943 - val_loss: 1.7913 - val_acc: 0.5652\n",
      "Epoch 2/18\n",
      "110288/110288 [==============================] - 23s 206us/step - loss: 0.5942 - acc: 0.8131 - val_loss: 0.7073 - val_acc: 0.7669\n",
      "Epoch 3/18\n",
      "110288/110288 [==============================] - 23s 206us/step - loss: 0.3074 - acc: 0.8988 - val_loss: 0.3057 - val_acc: 0.9017\n",
      "Epoch 4/18\n",
      "110288/110288 [==============================] - 23s 206us/step - loss: 0.2020 - acc: 0.9356 - val_loss: 0.1967 - val_acc: 0.9371\n",
      "Epoch 5/18\n",
      "110288/110288 [==============================] - 23s 206us/step - loss: 0.1623 - acc: 0.9488 - val_loss: 0.1649 - val_acc: 0.9478\n",
      "Epoch 6/18\n",
      "110288/110288 [==============================] - 23s 206us/step - loss: 0.1246 - acc: 0.9609 - val_loss: 0.1241 - val_acc: 0.9620\n",
      "Epoch 7/18\n",
      "110288/110288 [==============================] - 23s 206us/step - loss: 0.1051 - acc: 0.9668 - val_loss: 0.1250 - val_acc: 0.9628\n",
      "Epoch 8/18\n",
      "110288/110288 [==============================] - 23s 206us/step - loss: 0.0934 - acc: 0.9707 - val_loss: 0.1368 - val_acc: 0.9601\n",
      "Epoch 9/18\n",
      "110288/110288 [==============================] - 23s 206us/step - loss: 0.1109 - acc: 0.9662 - val_loss: 0.0978 - val_acc: 0.9706\n",
      "Epoch 10/18\n",
      "110288/110288 [==============================] - 23s 206us/step - loss: 0.0720 - acc: 0.9776 - val_loss: 0.0833 - val_acc: 0.9755\n",
      "Epoch 11/18\n",
      "110288/110288 [==============================] - 23s 206us/step - loss: 0.0698 - acc: 0.9784 - val_loss: 0.0824 - val_acc: 0.9751\n",
      "Epoch 12/18\n",
      "110288/110288 [==============================] - 23s 206us/step - loss: 0.0608 - acc: 0.9811 - val_loss: 0.0810 - val_acc: 0.9763\n",
      "Epoch 13/18\n",
      "110288/110288 [==============================] - 23s 206us/step - loss: 0.0392 - acc: 0.9879 - val_loss: 0.0600 - val_acc: 0.9824\n",
      "Epoch 14/18\n",
      "110288/110288 [==============================] - 23s 206us/step - loss: 0.0335 - acc: 0.9896 - val_loss: 0.0566 - val_acc: 0.9834\n",
      "Epoch 15/18\n",
      "110288/110288 [==============================] - 23s 206us/step - loss: 0.0305 - acc: 0.9906 - val_loss: 0.0559 - val_acc: 0.9838\n",
      "Epoch 16/18\n",
      "110288/110288 [==============================] - 23s 206us/step - loss: 0.0286 - acc: 0.9912 - val_loss: 0.0631 - val_acc: 0.9820\n",
      "Epoch 17/18\n",
      "110288/110288 [==============================] - 23s 206us/step - loss: 0.0228 - acc: 0.9933 - val_loss: 0.0514 - val_acc: 0.9856\n",
      "Epoch 18/18\n",
      "110288/110288 [==============================] - 23s 206us/step - loss: 0.0200 - acc: 0.9943 - val_loss: 0.0521 - val_acc: 0.9856\n",
      "new jersey est parfois calme pendant l' automne et il est neigeux en avril <PAD> <PAD> <PAD> <PAD> <PAD> <PAD> <PAD>\n"
     ]
    }
   ],
   "source": [
    "def model_final(input_shape, output_sequence_length, english_vocab_size, french_vocab_size):\n",
    "    \"\"\"\n",
    "    Build and train a model that incorporates embedding, encoder-decoder, and bidirectional RNN on x and y\n",
    "    :param input_shape: Tuple of input shape\n",
    "    :param output_sequence_length: Length of output sequence\n",
    "    :param english_vocab_size: Number of unique English words in the dataset\n",
    "    :param french_vocab_size: Number of unique French words in the dataset\n",
    "    :return: Keras model built, but not trained\n",
    "    \"\"\"\n",
    "    # TODO: Implement\n",
    "    # encoder RNN\n",
    "    inputs = Input(shape=(input_shape[1],))\n",
    "    embd_inputs = Embedding(input_dim=english_vocab_size, output_dim=200)(inputs)\n",
    "    Bi_RNN_1 = Bidirectional(GRU(units=100, return_sequences=False), merge_mode='concat')(embd_inputs)\n",
    "    decode_inputs = RepeatVector(output_sequence_length)(Bi_RNN_1)\n",
    "\n",
    "    # decoder RNN\n",
    "    Bi_RNN_2 = Bidirectional(GRU(units=100, return_sequences=True), merge_mode='concat')(decode_inputs)\n",
    "    batch_RNN_2 = BatchNormalization(axis=-1)(Bi_RNN_2)\n",
    "    outputs = TimeDistributed(Dense(french_vocab_size, activation='softmax'))(batch_RNN_2)\n",
    "\n",
    "    model = Model(inputs=inputs, outputs=outputs)\n",
    "    \n",
    "    learning_rate = 5e-3\n",
    "    model.compile(loss=sparse_categorical_crossentropy,\n",
    "                  optimizer=Adam(learning_rate),\n",
    "                  metrics=['accuracy'])\n",
    "    \n",
    "    return model\n",
    "tests.test_model_final(model_final)\n",
    "\n",
    "print('Final Model Loaded')\n",
    "# TODO: Train the final model\n",
    "tmp_x = pad(preproc_english_sentences, max_english_sequence_length)\n",
    "#tmp_x = tmp_x.reshape((-1, preproc_english_sentences.shape[-2]))\n",
    "\n",
    "# TODO: Train the neural network\n",
    "final_rnn_model = model_final(\n",
    "    tmp_x.shape,\n",
    "    max_french_sequence_length,\n",
    "    english_vocab_size,\n",
    "    french_vocab_size+1)\n",
    "final_rnn_model.fit(tmp_x, preproc_french_sentences, batch_size=1024, epochs=18, validation_split=0.2, \n",
    "                    callbacks=callbacks_list, verbose=1)\n",
    "\n",
    "# TODO: Print prediction(s)\n",
    "print(logits_to_text(final_rnn_model.predict(tmp_x[:1])[0], french_tokenizer))\n"
   ]
  },
  {
   "cell_type": "markdown",
   "metadata": {},
   "source": [
    "## Prediction (IMPLEMENTATION)"
   ]
  },
  {
   "cell_type": "code",
   "execution_count": 20,
   "metadata": {},
   "outputs": [
    {
     "name": "stdout",
     "output_type": "stream",
     "text": [
      "Sample 1:\n",
      "il a vu un vieux camion jaune <PAD> <PAD> <PAD> <PAD> <PAD> <PAD> <PAD> <PAD> <PAD> <PAD> <PAD> <PAD> <PAD> <PAD>\n",
      "Il a vu un vieux camion jaune\n",
      "Sample 2:\n",
      "new jersey est parfois calme pendant l' automne et il est neigeux en avril <PAD> <PAD> <PAD> <PAD> <PAD> <PAD> <PAD>\n",
      "new jersey est parfois calme pendant l' automne et il est neigeux en avril <PAD> <PAD> <PAD> <PAD> <PAD> <PAD> <PAD>\n"
     ]
    }
   ],
   "source": [
    "def final_predictions(x, y, x_tk, y_tk):\n",
    "    \"\"\"\n",
    "    Gets predictions using the final model\n",
    "    :param x: Preprocessed English data\n",
    "    :param y: Preprocessed French data\n",
    "    :param x_tk: English tokenizer\n",
    "    :param y_tk: French tokenizer\n",
    "    \"\"\"\n",
    "    # TODO: Train neural network using model_final\n",
    "    model = final_rnn_model\n",
    "\n",
    "    \n",
    "    ## DON'T EDIT ANYTHING BELOW THIS LINE\n",
    "    y_id_to_word = {value: key for key, value in y_tk.word_index.items()}\n",
    "    y_id_to_word[0] = '<PAD>'\n",
    "\n",
    "    sentence = 'he saw a old yellow truck'\n",
    "    sentence = [x_tk.word_index[word] for word in sentence.split()]\n",
    "    sentence = pad_sequences([sentence], maxlen=x.shape[-1], padding='post')\n",
    "    sentences = np.array([sentence[0], x[0]])\n",
    "    predictions = model.predict(sentences, len(sentences))\n",
    "\n",
    "    print('Sample 1:')\n",
    "    print(' '.join([y_id_to_word[np.argmax(x)] for x in predictions[0]]))\n",
    "    print('Il a vu un vieux camion jaune')\n",
    "    print('Sample 2:')\n",
    "    print(' '.join([y_id_to_word[np.argmax(x)] for x in predictions[1]]))\n",
    "    print(' '.join([y_id_to_word[np.max(x)] for x in y[0]]))\n",
    "\n",
    "\n",
    "final_predictions(preproc_english_sentences, preproc_french_sentences, english_tokenizer, french_tokenizer)"
   ]
  },
  {
   "cell_type": "markdown",
   "metadata": {},
   "source": [
    "### Model 6: Custom (Enhancement)\n",
    "The Model enhanced from the developed Model 5"
   ]
  },
  {
   "cell_type": "markdown",
   "metadata": {},
   "source": [
    "Learning Rate Scheduler "
   ]
  },
  {
   "cell_type": "code",
   "execution_count": 21,
   "metadata": {},
   "outputs": [],
   "source": [
    "def lr_decay(epoch):\n",
    "    lr_matrix = np.ones(22)\n",
    "    lr_matrix[0:12] = 5e-3\n",
    "    lr_matrix[12:15] = 2e-3\n",
    "    lr_matrix[15:] = 1e-3\n",
    "    #lr_matrix[17:] = 0.8e-3\n",
    "    \n",
    "    return lr_matrix[epoch]\n",
    "    "
   ]
  },
  {
   "cell_type": "code",
   "execution_count": 22,
   "metadata": {},
   "outputs": [],
   "source": [
    "from keras.callbacks import LearningRateScheduler"
   ]
  },
  {
   "cell_type": "code",
   "execution_count": 23,
   "metadata": {},
   "outputs": [],
   "source": [
    "def model_final_enhance1(input_shape, output_sequence_length, english_vocab_size, french_vocab_size):\n",
    "    \"\"\"\n",
    "    Build and train a model that incorporates embedding, encoder-decoder, and bidirectional RNN on x and y\n",
    "    :param input_shape: Tuple of input shape\n",
    "    :param output_sequence_length: Length of output sequence\n",
    "    :param english_vocab_size: Number of unique English words in the dataset\n",
    "    :param french_vocab_size: Number of unique French words in the dataset\n",
    "    :return: Keras model built, but not trained\n",
    "    \"\"\"\n",
    "    # TODO: Implement\n",
    "    # encoder RNN\n",
    "    inputs = Input(shape=(input_shape[1],))\n",
    "    embd_inputs = Embedding(input_dim=english_vocab_size, output_dim=200)(inputs)\n",
    "    Bi_RNN_1 = Bidirectional(GRU(units=200, return_sequences=False), merge_mode='concat')(embd_inputs)\n",
    "    decode_inputs = RepeatVector(output_sequence_length)(Bi_RNN_1)\n",
    "\n",
    "    # decoder RNN\n",
    "    Bi_RNN_2 = Bidirectional(GRU(units=200, return_sequences=True), merge_mode='concat')(decode_inputs)\n",
    "    batch_RNN_2 = BatchNormalization(axis=-1)(Bi_RNN_2)\n",
    "    outputs = TimeDistributed(Dense(french_vocab_size, activation='softmax'))(batch_RNN_2)\n",
    "\n",
    "    model = Model(inputs=inputs, outputs=outputs)\n",
    "    \n",
    "    learning_rate = 5e-3\n",
    "    \n",
    "    \n",
    "    model.compile(loss=sparse_categorical_crossentropy,\n",
    "                  optimizer=Adam(learning_rate),\n",
    "                  metrics=['accuracy'])\n",
    "    \n",
    "    return model\n"
   ]
  },
  {
   "cell_type": "code",
   "execution_count": 24,
   "metadata": {},
   "outputs": [],
   "source": [
    "lrrate = LearningRateScheduler(lr_decay)\n",
    "callbacks_list = [lrrate]"
   ]
  },
  {
   "cell_type": "code",
   "execution_count": 25,
   "metadata": {
    "scrolled": false
   },
   "outputs": [
    {
     "name": "stdout",
     "output_type": "stream",
     "text": [
      "Train on 110288 samples, validate on 27573 samples\n",
      "Epoch 1/22\n",
      "110288/110288 [==============================] - 37s 337us/step - loss: 1.4525 - acc: 0.6245 - val_loss: 1.6996 - val_acc: 0.5762\n",
      "Epoch 2/22\n",
      "110288/110288 [==============================] - 37s 334us/step - loss: 0.4518 - acc: 0.8516 - val_loss: 0.8486 - val_acc: 0.7311\n",
      "Epoch 3/22\n",
      "110288/110288 [==============================] - 37s 334us/step - loss: 0.2477 - acc: 0.9192 - val_loss: 0.2250 - val_acc: 0.9282\n",
      "Epoch 4/22\n",
      "110288/110288 [==============================] - 37s 334us/step - loss: 0.1514 - acc: 0.9522 - val_loss: 0.1352 - val_acc: 0.9576\n",
      "Epoch 5/22\n",
      "110288/110288 [==============================] - 37s 334us/step - loss: 0.1109 - acc: 0.9651 - val_loss: 0.1083 - val_acc: 0.9667\n",
      "Epoch 6/22\n",
      "110288/110288 [==============================] - 37s 334us/step - loss: 0.0925 - acc: 0.9711 - val_loss: 0.1082 - val_acc: 0.9673\n",
      "Epoch 7/22\n",
      "110288/110288 [==============================] - 37s 334us/step - loss: 0.0792 - acc: 0.9754 - val_loss: 0.0869 - val_acc: 0.9736\n",
      "Epoch 8/22\n",
      "110288/110288 [==============================] - 37s 334us/step - loss: 0.0719 - acc: 0.9776 - val_loss: 0.0977 - val_acc: 0.9709\n",
      "Epoch 9/22\n",
      "110288/110288 [==============================] - 37s 333us/step - loss: 0.0693 - acc: 0.9786 - val_loss: 0.0829 - val_acc: 0.9758\n",
      "Epoch 10/22\n",
      "110288/110288 [==============================] - 37s 334us/step - loss: 0.0613 - acc: 0.9812 - val_loss: 0.0869 - val_acc: 0.9757\n",
      "Epoch 11/22\n",
      "110288/110288 [==============================] - 37s 334us/step - loss: 0.0539 - acc: 0.9836 - val_loss: 0.0746 - val_acc: 0.9788\n",
      "Epoch 12/22\n",
      "110288/110288 [==============================] - 37s 334us/step - loss: 0.0475 - acc: 0.9853 - val_loss: 0.0810 - val_acc: 0.9778\n",
      "Epoch 13/22\n",
      "110288/110288 [==============================] - 37s 334us/step - loss: 0.0253 - acc: 0.9923 - val_loss: 0.0507 - val_acc: 0.9859\n",
      "Epoch 14/22\n",
      "110288/110288 [==============================] - 37s 333us/step - loss: 0.0159 - acc: 0.9954 - val_loss: 0.0483 - val_acc: 0.9870\n",
      "Epoch 15/22\n",
      "110288/110288 [==============================] - 37s 333us/step - loss: 0.0125 - acc: 0.9965 - val_loss: 0.0489 - val_acc: 0.9874\n",
      "Epoch 16/22\n",
      "110288/110288 [==============================] - 37s 333us/step - loss: 0.0090 - acc: 0.9978 - val_loss: 0.0472 - val_acc: 0.9880\n",
      "Epoch 17/22\n",
      "110288/110288 [==============================] - 37s 332us/step - loss: 0.0074 - acc: 0.9983 - val_loss: 0.0484 - val_acc: 0.9880\n",
      "Epoch 18/22\n",
      "110288/110288 [==============================] - 37s 332us/step - loss: 0.0065 - acc: 0.9986 - val_loss: 0.0491 - val_acc: 0.9881\n",
      "Epoch 19/22\n",
      "110288/110288 [==============================] - 37s 332us/step - loss: 0.0059 - acc: 0.9987 - val_loss: 0.0496 - val_acc: 0.9882\n",
      "Epoch 20/22\n",
      "110288/110288 [==============================] - 37s 332us/step - loss: 0.0054 - acc: 0.9989 - val_loss: 0.0508 - val_acc: 0.9881\n",
      "Epoch 21/22\n",
      "110288/110288 [==============================] - 37s 332us/step - loss: 0.0049 - acc: 0.9990 - val_loss: 0.0513 - val_acc: 0.9881\n",
      "Epoch 22/22\n",
      "110288/110288 [==============================] - 37s 332us/step - loss: 0.0046 - acc: 0.9991 - val_loss: 0.0518 - val_acc: 0.9883\n",
      "new jersey est parfois calme pendant l' automne et il est neigeux en avril <PAD> <PAD> <PAD> <PAD> <PAD> <PAD> <PAD>\n"
     ]
    }
   ],
   "source": [
    "tmp_x = pad(preproc_english_sentences, max_english_sequence_length)\n",
    "\n",
    "# Instaintiate the Model\n",
    "final_rnn_model_enhance1 = model_final_enhance1(\n",
    "    tmp_x.shape,\n",
    "    max_french_sequence_length,\n",
    "    english_vocab_size,\n",
    "    french_vocab_size+1)\n",
    "\n",
    "# Train the Model\n",
    "final_rnn_model_enhance1.fit(tmp_x, preproc_french_sentences, batch_size=1024, epochs=22, validation_split=0.2, \n",
    "                             callbacks=callbacks_list, verbose=1)\n",
    "\n",
    "print(logits_to_text(final_rnn_model_enhance1.predict(tmp_x[:1])[0], french_tokenizer))\n"
   ]
  },
  {
   "cell_type": "markdown",
   "metadata": {},
   "source": [
    "## Prediction - Model 6 (Enahnacement from Model 5)"
   ]
  },
  {
   "cell_type": "code",
   "execution_count": 27,
   "metadata": {},
   "outputs": [
    {
     "name": "stdout",
     "output_type": "stream",
     "text": [
      "Sample 1:\n",
      "il a vu un vieux camion jaune <PAD> <PAD> <PAD> <PAD> <PAD> <PAD> <PAD> <PAD> <PAD> <PAD> <PAD> <PAD> <PAD> <PAD>\n",
      "Il a vu un vieux camion jaune\n",
      "Sample 2:\n",
      "new jersey est parfois calme pendant l' automne et il est neigeux en avril <PAD> <PAD> <PAD> <PAD> <PAD> <PAD> <PAD>\n",
      "new jersey est parfois calme pendant l' automne et il est neigeux en avril <PAD> <PAD> <PAD> <PAD> <PAD> <PAD> <PAD>\n"
     ]
    }
   ],
   "source": [
    "def final_predictions(x, y, x_tk, y_tk):\n",
    "    \"\"\"\n",
    "    Gets predictions using the final model\n",
    "    :param x: Preprocessed English data\n",
    "    :param y: Preprocessed French data\n",
    "    :param x_tk: English tokenizer\n",
    "    :param y_tk: French tokenizer\n",
    "    \"\"\"\n",
    "    # TODO: Train neural network using model_final\n",
    "    model = final_rnn_model_enhance1\n",
    "\n",
    "    \n",
    "    ## DON'T EDIT ANYTHING BELOW THIS LINE\n",
    "    y_id_to_word = {value: key for key, value in y_tk.word_index.items()}\n",
    "    y_id_to_word[0] = '<PAD>'\n",
    "\n",
    "    sentence = 'he saw a old yellow truck'\n",
    "    sentence = [x_tk.word_index[word] for word in sentence.split()]\n",
    "    sentence = pad_sequences([sentence], maxlen=x.shape[-1], padding='post')\n",
    "    sentences = np.array([sentence[0], x[0]])\n",
    "    predictions = model.predict(sentences, len(sentences))\n",
    "\n",
    "    print('Sample 1:')\n",
    "    print(' '.join([y_id_to_word[np.argmax(x)] for x in predictions[0]]))\n",
    "    print('Il a vu un vieux camion jaune')\n",
    "    print('Sample 2:')\n",
    "    print(' '.join([y_id_to_word[np.argmax(x)] for x in predictions[1]]))\n",
    "    print(' '.join([y_id_to_word[np.max(x)] for x in y[0]]))\n",
    "\n",
    "\n",
    "final_predictions(preproc_english_sentences, preproc_french_sentences, english_tokenizer, french_tokenizer)"
   ]
  },
  {
   "cell_type": "markdown",
   "metadata": {},
   "source": [
    "### Model 7: Custom (Model 5 without Batch-Norm)\n",
    "The Model from the developed Model 5 without Batch-Normalization"
   ]
  },
  {
   "cell_type": "code",
   "execution_count": 32,
   "metadata": {},
   "outputs": [],
   "source": [
    "def model_final_wo_batchn(input_shape, output_sequence_length, english_vocab_size, french_vocab_size):\n",
    "    \"\"\"\n",
    "    Build and train a model that incorporates embedding, encoder-decoder, and bidirectional RNN on x and y\n",
    "    :param input_shape: Tuple of input shape\n",
    "    :param output_sequence_length: Length of output sequence\n",
    "    :param english_vocab_size: Number of unique English words in the dataset\n",
    "    :param french_vocab_size: Number of unique French words in the dataset\n",
    "    :return: Keras model built, but not trained\n",
    "    \"\"\"\n",
    "    # TODO: Implement\n",
    "    # encoder RNN\n",
    "    inputs = Input(shape=(input_shape[1],))\n",
    "    embd_inputs = Embedding(input_dim=english_vocab_size, output_dim=200)(inputs)\n",
    "    Bi_RNN_1 = Bidirectional(GRU(units=100, return_sequences=False), merge_mode='concat')(embd_inputs)\n",
    "    decode_inputs = RepeatVector(output_sequence_length)(Bi_RNN_1)\n",
    "\n",
    "    # decoder RNN\n",
    "    Bi_RNN_2 = Bidirectional(GRU(units=100, return_sequences=True), merge_mode='concat')(decode_inputs)\n",
    "    #batch_RNN_2 = BatchNormalization(axis=-1)(Bi_RNN_2)\n",
    "    outputs = TimeDistributed(Dense(french_vocab_size, activation='softmax'))(Bi_RNN_2)\n",
    "\n",
    "    model = Model(inputs=inputs, outputs=outputs)\n",
    "    \n",
    "    learning_rate = 5e-3\n",
    "    model.compile(loss=sparse_categorical_crossentropy,\n",
    "                  optimizer=Adam(learning_rate),\n",
    "                  metrics=['accuracy'])\n",
    "    \n",
    "    return model\n"
   ]
  },
  {
   "cell_type": "code",
   "execution_count": 33,
   "metadata": {},
   "outputs": [],
   "source": [
    "lrrate = LearningRateScheduler(lr_decay)\n",
    "callbacks_list = [lrrate]"
   ]
  },
  {
   "cell_type": "code",
   "execution_count": 35,
   "metadata": {
    "scrolled": true
   },
   "outputs": [
    {
     "name": "stdout",
     "output_type": "stream",
     "text": [
      "Train on 110288 samples, validate on 27573 samples\n",
      "Epoch 1/22\n",
      "110288/110288 [==============================] - 23s 205us/step - loss: 2.3450 - acc: 0.4853 - val_loss: nan - val_acc: 0.5855\n",
      "Epoch 2/22\n",
      "110288/110288 [==============================] - 22s 201us/step - loss: 1.3145 - acc: 0.6509 - val_loss: nan - val_acc: 0.7105\n",
      "Epoch 3/22\n",
      "110288/110288 [==============================] - 22s 201us/step - loss: 0.9400 - acc: 0.7359 - val_loss: nan - val_acc: 0.7581\n",
      "Epoch 4/22\n",
      "110288/110288 [==============================] - 22s 201us/step - loss: 0.7141 - acc: 0.7927 - val_loss: nan - val_acc: 0.8178\n",
      "Epoch 5/22\n",
      "110288/110288 [==============================] - 22s 201us/step - loss: 0.5091 - acc: 0.8535 - val_loss: nan - val_acc: 0.8866\n",
      "Epoch 6/22\n",
      "110288/110288 [==============================] - 22s 201us/step - loss: 0.3481 - acc: 0.9034 - val_loss: nan - val_acc: 0.9206\n",
      "Epoch 7/22\n",
      "110288/110288 [==============================] - 22s 201us/step - loss: 0.2613 - acc: 0.9285 - val_loss: nan - val_acc: 0.9380\n",
      "Epoch 8/22\n",
      "110288/110288 [==============================] - 22s 201us/step - loss: 0.2022 - acc: 0.9464 - val_loss: nan - val_acc: 0.9504\n",
      "Epoch 9/22\n",
      "110288/110288 [==============================] - 22s 201us/step - loss: 0.1696 - acc: 0.9551 - val_loss: nan - val_acc: 0.9573\n",
      "Epoch 10/22\n",
      "110288/110288 [==============================] - 22s 201us/step - loss: 0.1590 - acc: 0.9565 - val_loss: nan - val_acc: 0.9578\n",
      "Epoch 11/22\n",
      "110288/110288 [==============================] - 22s 201us/step - loss: 0.1422 - acc: 0.9613 - val_loss: nan - val_acc: 0.9552\n",
      "Epoch 12/22\n",
      "110288/110288 [==============================] - 22s 201us/step - loss: 0.1289 - acc: 0.9645 - val_loss: nan - val_acc: 0.9642\n",
      "Epoch 13/22\n",
      "110288/110288 [==============================] - 22s 201us/step - loss: 0.1059 - acc: 0.9707 - val_loss: nan - val_acc: 0.9684\n",
      "Epoch 14/22\n",
      "110288/110288 [==============================] - 22s 201us/step - loss: 0.1009 - acc: 0.9720 - val_loss: nan - val_acc: 0.9671\n",
      "Epoch 15/22\n",
      "110288/110288 [==============================] - 22s 201us/step - loss: 0.0792 - acc: 0.9785 - val_loss: nan - val_acc: 0.9742\n",
      "Epoch 16/22\n",
      "110288/110288 [==============================] - 22s 201us/step - loss: 0.0656 - acc: 0.9827 - val_loss: nan - val_acc: 0.9778\n",
      "Epoch 17/22\n",
      "110288/110288 [==============================] - 22s 201us/step - loss: 0.0594 - acc: 0.9844 - val_loss: nan - val_acc: 0.9778\n",
      "Epoch 18/22\n",
      "110288/110288 [==============================] - 22s 200us/step - loss: 0.0538 - acc: 0.9859 - val_loss: nan - val_acc: 0.9795\n",
      "Epoch 19/22\n",
      "110288/110288 [==============================] - 22s 201us/step - loss: 0.0465 - acc: 0.9883 - val_loss: nan - val_acc: 0.9814\n",
      "Epoch 20/22\n",
      "110288/110288 [==============================] - 22s 201us/step - loss: 0.0432 - acc: 0.9894 - val_loss: nan - val_acc: 0.9815\n",
      "Epoch 21/22\n",
      "110288/110288 [==============================] - 22s 201us/step - loss: 0.0415 - acc: 0.9898 - val_loss: nan - val_acc: 0.9817\n",
      "Epoch 22/22\n",
      "110288/110288 [==============================] - 22s 201us/step - loss: 0.0397 - acc: 0.9903 - val_loss: nan - val_acc: 0.9819\n",
      "new jersey est parfois calme pendant l' automne et il est neigeux en avril <PAD> <PAD> <PAD> <PAD> <PAD> <PAD> <PAD>\n"
     ]
    }
   ],
   "source": [
    "tmp_x = pad(preproc_english_sentences, max_english_sequence_length)\n",
    "\n",
    "# Instaintiate the Model\n",
    "final_rnn_model_wo_batchn = model_final_wo_batchn(\n",
    "    tmp_x.shape,\n",
    "    max_french_sequence_length,\n",
    "    english_vocab_size,\n",
    "    french_vocab_size)\n",
    "\n",
    "# Train the Model\n",
    "final_rnn_model_wo_batchn.fit(tmp_x, preproc_french_sentences, batch_size=1024, epochs=22, validation_split=0.2, \n",
    "                              callbacks=callbacks_list, verbose=1)\n",
    "\n",
    "print(logits_to_text(final_rnn_model_wo_batchn.predict(tmp_x[:1])[0], french_tokenizer))\n"
   ]
  },
  {
   "cell_type": "markdown",
   "metadata": {},
   "source": [
    "## Prediction - Model 5 without Batch Normalization"
   ]
  },
  {
   "cell_type": "code",
   "execution_count": 36,
   "metadata": {},
   "outputs": [
    {
     "name": "stdout",
     "output_type": "stream",
     "text": [
      "Sample 1:\n",
      "il a vu un vieux camion jaune <PAD> <PAD> <PAD> <PAD> <PAD> <PAD> <PAD> <PAD> <PAD> <PAD> <PAD> <PAD> <PAD> <PAD>\n",
      "Il a vu un vieux camion jaune\n",
      "Sample 2:\n",
      "new jersey est parfois calme pendant l' automne et il est neigeux en avril <PAD> <PAD> <PAD> <PAD> <PAD> <PAD> <PAD>\n",
      "new jersey est parfois calme pendant l' automne et il est neigeux en avril <PAD> <PAD> <PAD> <PAD> <PAD> <PAD> <PAD>\n"
     ]
    }
   ],
   "source": [
    "def final_predictions(x, y, x_tk, y_tk):\n",
    "    \"\"\"\n",
    "    Gets predictions using the final model\n",
    "    :param x: Preprocessed English data\n",
    "    :param y: Preprocessed French data\n",
    "    :param x_tk: English tokenizer\n",
    "    :param y_tk: French tokenizer\n",
    "    \"\"\"\n",
    "    # TODO: Train neural network using model_final\n",
    "    model = final_rnn_model_wo_batchn\n",
    "\n",
    "    \n",
    "    ## DON'T EDIT ANYTHING BELOW THIS LINE\n",
    "    y_id_to_word = {value: key for key, value in y_tk.word_index.items()}\n",
    "    y_id_to_word[0] = '<PAD>'\n",
    "\n",
    "    sentence = 'he saw a old yellow truck'\n",
    "    sentence = [x_tk.word_index[word] for word in sentence.split()]\n",
    "    sentence = pad_sequences([sentence], maxlen=x.shape[-1], padding='post')\n",
    "    sentences = np.array([sentence[0], x[0]])\n",
    "    predictions = model.predict(sentences, len(sentences))\n",
    "\n",
    "    print('Sample 1:')\n",
    "    print(' '.join([y_id_to_word[np.argmax(x)] for x in predictions[0]]))\n",
    "    print('Il a vu un vieux camion jaune')\n",
    "    print('Sample 2:')\n",
    "    print(' '.join([y_id_to_word[np.argmax(x)] for x in predictions[1]]))\n",
    "    print(' '.join([y_id_to_word[np.max(x)] for x in y[0]]))\n",
    "\n",
    "\n",
    "final_predictions(preproc_english_sentences, preproc_french_sentences, english_tokenizer, french_tokenizer)"
   ]
  },
  {
   "cell_type": "markdown",
   "metadata": {},
   "source": [
    "## Submission\n",
    "When you're ready to submit, complete the following steps:\n",
    "1. Review the [rubric](https://review.udacity.com/#!/rubrics/1004/view) to ensure your submission meets all requirements to pass\n",
    "2. Generate an HTML version of this notebook\n",
    "\n",
    "  - Run the next cell to attempt automatic generation (this is the recommended method in Workspaces)\n",
    "  - Navigate to **FILE -> Download as -> HTML (.html)**\n",
    "  - Manually generate a copy using `nbconvert` from your shell terminal\n",
    "```\n",
    "$ pip install nbconvert\n",
    "$ python -m nbconvert machine_translation.ipynb\n",
    "```\n",
    "  \n",
    "3. Submit the project\n",
    "\n",
    "  - If you are in a Workspace, simply click the \"Submit Project\" button (bottom towards the right)\n",
    "  \n",
    "  - Otherwise, add the following files into a zip archive and submit them \n",
    "  - `helper.py`\n",
    "  - `machine_translation.ipynb`\n",
    "  - `machine_translation.html`\n",
    "    - You can export the notebook by navigating to **File -> Download as -> HTML (.html)**."
   ]
  },
  {
   "cell_type": "markdown",
   "metadata": {},
   "source": [
    "### Generate the html\n",
    "\n",
    "**Save your notebook before running the next cell to generate the HTML output.** Then submit your project."
   ]
  },
  {
   "cell_type": "code",
   "execution_count": 44,
   "metadata": {},
   "outputs": [
    {
     "data": {
      "text/plain": [
       "['[NbConvertApp] Converting notebook machine_translation.ipynb to html',\n",
       " '[NbConvertApp] Writing 411916 bytes to machine_translation.html']"
      ]
     },
     "execution_count": 44,
     "metadata": {},
     "output_type": "execute_result"
    }
   ],
   "source": [
    "# Save before you run this cell!\n",
    "!!jupyter nbconvert *.ipynb"
   ]
  },
  {
   "cell_type": "markdown",
   "metadata": {},
   "source": [
    "## Optional Enhancements\n",
    "\n",
    "This project focuses on learning various network architectures for machine translation, but we don't evaluate the models according to best practices by splitting the data into separate test & training sets -- so the model accuracy is overstated. Use the [`sklearn.model_selection.train_test_split()`](http://scikit-learn.org/stable/modules/generated/sklearn.model_selection.train_test_split.html) function to create separate training & test datasets, then retrain each of the models using only the training set and evaluate the prediction accuracy using the hold out test set. Does the \"best\" model change?"
   ]
  }
 ],
 "metadata": {
  "kernelspec": {
   "display_name": "Python 3",
   "language": "python",
   "name": "python3"
  },
  "language_info": {
   "codemirror_mode": {
    "name": "ipython",
    "version": 3
   },
   "file_extension": ".py",
   "mimetype": "text/x-python",
   "name": "python",
   "nbconvert_exporter": "python",
   "pygments_lexer": "ipython3",
   "version": "3.6.4"
  }
 },
 "nbformat": 4,
 "nbformat_minor": 1
}
